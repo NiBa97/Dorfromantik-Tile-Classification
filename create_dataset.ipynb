{
 "cells": [
  {
   "cell_type": "code",
   "execution_count": 3,
   "metadata": {},
   "outputs": [],
   "source": [
    "import os\n",
    "from IPython.display import Image, clear_output\n",
    "import matplotlib.pyplot as plt\n",
    "import pandas as pd"
   ]
  },
  {
   "cell_type": "code",
   "execution_count": 11,
   "metadata": {},
   "outputs": [],
   "source": [
    "#Create the dataframe\n",
    "df = pd.DataFrame(columns=['image', 'edge_1', 'edge_2', 'edge_3', 'edge_4', 'edge_5', 'edge_6'])\n",
    "images_path = './data/images/'\n",
    "df[\"image\"] = os.listdir(images_path)"
   ]
  },
  {
   "cell_type": "markdown",
   "metadata": {},
   "source": [
    "Go through all the images, setting one specific edge every time. Store the dataframe after every update to prevent data loss on errors."
   ]
  },
  {
   "cell_type": "code",
   "execution_count": 32,
   "metadata": {},
   "outputs": [],
   "source": [
    "n_files = len(os.listdir(images_path))\n",
    "current_edge = 6\n",
    "i = 1\n",
    "for image_name in os.listdir(images_path):\n",
    "    image_path = images_path + image_name\n",
    "\n",
    "\n",
    "    print(\"Naming edge: \", current_edge, f\" - {i}/{n_files}\")\n",
    "    display(Image(filename=image_path))\n",
    "    \n",
    "    label = input(\"1: Field - 2: Forrest - 3: Wheat - 4: Houses - 5: Water - 6: Rail\")\n",
    "    df.loc[df.image == image_name,f\"edge_{current_edge}\"] = label\n",
    "    \n",
    "    clear_output()\n",
    "    df.to_csv(\"data/labels.csv\", index=False)\n",
    "    i+=1"
   ]
  },
  {
   "cell_type": "markdown",
   "metadata": {},
   "source": [
    "Visually debug the individual tiles."
   ]
  },
  {
   "cell_type": "code",
   "execution_count": 75,
   "metadata": {},
   "outputs": [],
   "source": [
    "import warnings\n",
    "warnings.filterwarnings(\"ignore\")\n",
    "\n",
    "mapping = {1:\"Field\", 2:\"Forrest\", 3:\"Wheat\", 4:\"Houses\", 5:\"Water\", 6:\"Rail\"}\n",
    "for image_name in os.listdir(images_path):\n",
    "    #plot image with matplotlib\n",
    "    image_path = images_path + image_name\n",
    "    image = plt.imread(image_path)\n",
    "    plt.imshow(image)\n",
    "    row = df[df.image == image_name]\n",
    "    print(row.edge_1.values[0])\n",
    "    plt.text(150, 160,  mapping.get(int(row.edge_1.values[0])), bbox=dict(fill=True, edgecolor='red', linewidth=2, color='red'))\n",
    "    plt.text(50, 140,   mapping.get(int(row.edge_2.values[0])), bbox=dict(fill=True, edgecolor='red', linewidth=2, color='red'))\n",
    "    plt.text(25, 35,    mapping.get(int(row.edge_3.values[0])), bbox=dict(fill=True, edgecolor='red', linewidth=2, color='red'))\n",
    "    plt.text(150, 10,   mapping.get(int(row.edge_4.values[0])), bbox=dict(fill=True, edgecolor='red', linewidth=2, color='red'))\n",
    "    plt.text(250, 35,   mapping.get(int(row.edge_5.values[0])), bbox=dict(fill=True, edgecolor='red', linewidth=2, color='red'))\n",
    "    plt.text(250, 150,  mapping.get(int(row.edge_6.values[0])), bbox=dict(fill=True, edgecolor='red', linewidth=2, color='red'))\n",
    "    plt.show()\n",
    "    verdict = input(\"Correct? (y/n)\")\n",
    "    df.loc[df.image == image_name,\"verdict\"] = verdict\n",
    "\n",
    "    clear_output()"
   ]
  },
  {
   "cell_type": "code",
   "execution_count": 85,
   "metadata": {},
   "outputs": [
    {
     "data": {
      "text/html": [
       "<div>\n",
       "<style scoped>\n",
       "    .dataframe tbody tr th:only-of-type {\n",
       "        vertical-align: middle;\n",
       "    }\n",
       "\n",
       "    .dataframe tbody tr th {\n",
       "        vertical-align: top;\n",
       "    }\n",
       "\n",
       "    .dataframe thead th {\n",
       "        text-align: right;\n",
       "    }\n",
       "</style>\n",
       "<table border=\"1\" class=\"dataframe\">\n",
       "  <thead>\n",
       "    <tr style=\"text-align: right;\">\n",
       "      <th></th>\n",
       "      <th>image</th>\n",
       "      <th>edge_1</th>\n",
       "      <th>edge_2</th>\n",
       "      <th>edge_3</th>\n",
       "      <th>edge_4</th>\n",
       "      <th>edge_5</th>\n",
       "      <th>edge_6</th>\n",
       "      <th>verdict</th>\n",
       "    </tr>\n",
       "  </thead>\n",
       "  <tbody>\n",
       "  </tbody>\n",
       "</table>\n",
       "</div>"
      ],
      "text/plain": [
       "Empty DataFrame\n",
       "Columns: [image, edge_1, edge_2, edge_3, edge_4, edge_5, edge_6, verdict]\n",
       "Index: []"
      ]
     },
     "execution_count": 85,
     "metadata": {},
     "output_type": "execute_result"
    }
   ],
   "source": [
    "df[df.verdict == \"n\"]"
   ]
  },
  {
   "cell_type": "code",
   "execution_count": 87,
   "metadata": {},
   "outputs": [],
   "source": [
    "#remove verdict col for the final dataframe\n",
    "df.drop(columns=[\"verdict\"], inplace=True)\n",
    "\n",
    "df.to_csv(\"data/labels.csv\", index=False)"
   ]
  }
 ],
 "metadata": {
  "kernelspec": {
   "display_name": "Python 3.9.13 64-bit",
   "language": "python",
   "name": "python3"
  },
  "language_info": {
   "codemirror_mode": {
    "name": "ipython",
    "version": 3
   },
   "file_extension": ".py",
   "mimetype": "text/x-python",
   "name": "python",
   "nbconvert_exporter": "python",
   "pygments_lexer": "ipython3",
   "version": "3.9.13"
  },
  "orig_nbformat": 4,
  "vscode": {
   "interpreter": {
    "hash": "b0fa6594d8f4cbf19f97940f81e996739fb7646882a419484c72d19e05852a7e"
   }
  }
 },
 "nbformat": 4,
 "nbformat_minor": 2
}
